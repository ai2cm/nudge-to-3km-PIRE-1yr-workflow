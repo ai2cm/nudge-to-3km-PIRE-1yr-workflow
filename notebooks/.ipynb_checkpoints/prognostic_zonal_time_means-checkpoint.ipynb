{
 "cells": [
  {
   "cell_type": "code",
   "execution_count": 1,
   "metadata": {},
   "outputs": [],
   "source": [
    "import xarray as xr\n",
    "import fsspec\n",
    "import os\n",
    "from vcm.select import RegionOfInterest\n",
    "\n",
    "kg_m2s_to_mm_day = (1e3 * 86400) / 997.0\n",
    "kg_m2_to_mm  = 1000. / 997.0\n",
    "\n",
    "import xarray as xr\n",
    "import numpy as np\n",
    "import fsspec\n",
    "import intake\n",
    "from vcm.catalog import catalog \n",
    "import fv3viz\n",
    "import cftime\n",
    "import datetime\n",
    "import pandas as pd\n",
    "import matplotlib.pyplot as plt\n",
    "import os\n",
    "from datetime import timedelta\n",
    "import seaborn as sns\n",
    "import vcm\n",
    "\n",
    "\n",
    "slmsk = catalog[\"landseamask/c48\"].read()\n",
    "grid = catalog[\"grid/c48\"].read()\n",
    "\n",
    "figsize=(12,4)\n",
    "col_wrap = 2\n",
    "rename_dims = {\"grid_xt\": \"x\", \"grid_yt\": \"y\", \"grid_y\": \"y_interface\", \"grid_x\": \"x_interface\"}\n"
   ]
  },
  {
   "cell_type": "code",
   "execution_count": null,
   "metadata": {},
   "outputs": [],
   "source": [
    "rundirs = [\n",
    "\n",
    "  {\n",
    "    \"url\": \"gs://vcm-ml-experiments/n2f-pire-sfc-updates/2022-01-10/baseline-seaice-prescribed/fv3gfs_run\",\n",
    "    \"name\": \"Baseline physics\"\n",
    "  },\n",
    "    {\n",
    "        \"url\": \"gs://vcm-ml-experiments/n2f-pire-stable-ml/2022-07-09/decrease-rad-lr-updated-rad-flux-ensemble/fv3gfs_run\",\n",
    "        \"name\": \"ML-ensemble\"\n",
    "    },\n",
    "  {\n",
    "    \"url\": \"gs://vcm-ml-experiments/n2f-pire-stable-ml/2022-07-08/decrease-rad-lr-updated-rad-flux-seed-0/fv3gfs_run\",\n",
    "    \"name\": \"ML-seed-0\"\n",
    "  }, \n",
    "  {\n",
    "    \"url\": \"gs://vcm-ml-experiments/n2f-pire-stable-ml/2022-07-08/decrease-rad-lr-updated-rad-flux-seed-1/fv3gfs_run\",\n",
    "    \"name\": \"ML-seed-1\"\n",
    "  }, \n",
    "      {\n",
    "    \"url\": \"gs://vcm-ml-experiments/n2f-pire-stable-ml/2022-07-08/decrease-rad-lr-updated-rad-flux-seed-2/fv3gfs_run\",\n",
    "    \"name\": \"ML-seed-2\"\n",
    "  }, \n",
    "      {\n",
    "    \"url\": \"gs://vcm-ml-experiments/n2f-pire-stable-ml/2022-07-08/decrease-rad-lr-updated-rad-flux-seed-3/fv3gfs_run\",\n",
    "    \"name\": \"ML-seed-3\"\n",
    "  }, \n",
    "]\n"
   ]
  },
  {
   "cell_type": "code",
   "execution_count": 2,
   "metadata": {},
   "outputs": [],
   "source": [
    "experiments = {\n",
    "    \"Baseline\": \"gs://vcm-ml-experiments/n2f-pire-sfc-updates/2022-01-10/baseline-seaice-prescribed\",\n",
    "    \"ML ensemble\": \"gs://vcm-ml-experiments/n2f-pire-stable-ml/2022-07-09/decrease-rad-lr-updated-rad-flux-ensemble\",\n",
    "    \"ML seed 0\": \"gs://vcm-ml-experiments/n2f-pire-stable-ml/2022-07-08/decrease-rad-lr-updated-rad-flux-seed-0\",\n",
    "    \"ML seed 1\": \"gs://vcm-ml-experiments/n2f-pire-stable-ml/2022-07-08/decrease-rad-lr-updated-rad-flux-seed-1\",\n",
    "    \"ML seed 2\": \"gs://vcm-ml-experiments/n2f-pire-stable-ml/2022-07-08/decrease-rad-lr-updated-rad-flux-seed-2\",\n",
    "    \"ML seed 3\": \"gs://vcm-ml-experiments/n2f-pire-stable-ml/2022-07-08/decrease-rad-lr-updated-rad-flux-seed-3\"\n",
    "\n",
    "}"
   ]
  },
  {
   "cell_type": "code",
   "execution_count": null,
   "metadata": {},
   "outputs": [],
   "source": []
  }
 ],
 "metadata": {
  "kernelspec": {
   "display_name": "fv3net_kernel",
   "language": "python",
   "name": "fv3net"
  },
  "language_info": {
   "codemirror_mode": {
    "name": "ipython",
    "version": 3
   },
   "file_extension": ".py",
   "mimetype": "text/x-python",
   "name": "python",
   "nbconvert_exporter": "python",
   "pygments_lexer": "ipython3",
   "version": "3.8.12"
  }
 },
 "nbformat": 4,
 "nbformat_minor": 4
}
