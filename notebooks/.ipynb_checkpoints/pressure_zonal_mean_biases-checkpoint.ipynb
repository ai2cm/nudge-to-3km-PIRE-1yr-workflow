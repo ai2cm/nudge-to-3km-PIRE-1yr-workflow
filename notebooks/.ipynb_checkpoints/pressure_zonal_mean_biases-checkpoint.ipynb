{
 "cells": [
  {
   "cell_type": "code",
   "execution_count": 18,
   "metadata": {},
   "outputs": [],
   "source": [
    "import warnings\n",
    "warnings.filterwarnings('ignore')\n",
    "\n",
    "import xarray as xr\n",
    "import fsspec\n",
    "import os\n",
    "from vcm.select import RegionOfInterest\n",
    "\n",
    "kg_m2s_to_mm_day = (1e3 * 86400) / 997.0\n",
    "kg_m2_to_mm  = 1000. / 997.0\n",
    "\n",
    "import xarray as xr\n",
    "import numpy as np\n",
    "import fsspec\n",
    "import intake\n",
    "from vcm.catalog import catalog \n",
    "import fv3viz\n",
    "import cftime\n",
    "import datetime\n",
    "import pandas as pd\n",
    "import matplotlib.pyplot as plt\n",
    "import os\n",
    "from datetime import timedelta\n",
    "import seaborn as sns\n",
    "import vcm\n",
    "from dask.diagnostics import ProgressBar\n",
    "\n",
    "\n",
    "slmsk = catalog[\"landseamask/c48\"].read()\n",
    "grid = catalog[\"grid/c48\"].read()\n",
    "wind_rotation = catalog[\"wind_rotation/c48\"].read()\n",
    "\n",
    "figsize=(12,4)\n",
    "col_wrap = 2\n",
    "rename_dims = {\"grid_xt\": \"x\", \"grid_yt\": \"y\", \"grid_y\": \"y_interface\", \"grid_x\": \"x_interface\"}\n"
   ]
  },
  {
   "cell_type": "code",
   "execution_count": 19,
   "metadata": {},
   "outputs": [],
   "source": [
    "\n",
    "labels = [\"JFM\", \"AMJ\", \"JAS\", \"OND\"]\n",
    "\n",
    "def seasonal_avg(ds):\n",
    "    seasonal_ = []\n",
    "    start_year = ds.time.values[0].year\n",
    "    seasons = [\n",
    "        slice(cftime.DatetimeJulian(start_year,1,1), cftime.DatetimeJulian(start_year,4,1)),\n",
    "        slice(cftime.DatetimeJulian(start_year,4,1), cftime.DatetimeJulian(start_year,7,1)),\n",
    "        slice(cftime.DatetimeJulian(start_year,7,1), cftime.DatetimeJulian(start_year,10,1)),\n",
    "        slice(cftime.DatetimeJulian(start_year,10,1), cftime.DatetimeJulian(start_year + 1, 1,1)),\n",
    "    ]    \n",
    "    for season in seasons:\n",
    "        seasonal_.append(ds.sel(time=season).mean(\"time\"))\n",
    "    return xr.concat(seasonal_, dim=pd.Index([str(v) for v in labels], name=\"season\")).load()\n",
    "    "
   ]
  },
  {
   "cell_type": "code",
   "execution_count": 20,
   "metadata": {},
   "outputs": [],
   "source": [
    "experiments = {\n",
    "    \"Baseline\": \"gs://vcm-ml-experiments/n2f-pire-sfc-updates/2022-01-10/baseline-seaice-prescribed\",\n",
    "    \"ML ensemble\": \"gs://vcm-ml-experiments/n2f-pire-stable-ml/2022-07-09/decrease-rad-lr-updated-rad-flux-ensemble\",\n",
    "    #\"ML seed 0\": \"gs://vcm-ml-experiments/n2f-pire-stable-ml/2022-07-08/decrease-rad-lr-updated-rad-flux-seed-0\",\n",
    "    #\"ML seed 1\": \"gs://vcm-ml-experiments/n2f-pire-stable-ml/2022-07-08/decrease-rad-lr-updated-rad-flux-seed-1\",\n",
    "    #\"ML seed 2\": \"gs://vcm-ml-experiments/n2f-pire-stable-ml/2022-07-08/decrease-rad-lr-updated-rad-flux-seed-2\",\n",
    "    #\"ML seed 3\": \"gs://vcm-ml-experiments/n2f-pire-stable-ml/2022-07-08/decrease-rad-lr-updated-rad-flux-seed-3\"\n",
    "\n",
    "}\n",
    "reference_state = intake.open_zarr(\"gs://vcm-ml-experiments/n2f-pire-sfc-updates/2022-01-21/nudged-run/fv3gfs_run/reference_state.zarr/\").to_dask()\n"
   ]
  },
  {
   "cell_type": "code",
   "execution_count": 21,
   "metadata": {},
   "outputs": [],
   "source": [
    "names, data = [], []\n",
    "for key, rundir in experiments.items():\n",
    "    names.append(key)\n",
    "    data.append(intake.open_zarr(os.path.join(rundir, \"fv3gfs_run\", \"state_after_timestep.zarr\")).to_dask())\n",
    "prog_state = xr.concat(data, dim=pd.Index(names, name=\"run\"))"
   ]
  },
  {
   "cell_type": "code",
   "execution_count": null,
   "metadata": {},
   "outputs": [
    {
     "name": "stdout",
     "output_type": "stream",
     "text": [
      "[##                                      ] | 6% Completed |  7min 29.8s"
     ]
    }
   ],
   "source": [
    "with ProgressBar():\n",
    "    seasonal_prog_state = seasonal_avg(prog_state).load()\n",
    "    seasonal_reference_state = seasonal_avg(reference_state).load()"
   ]
  },
  {
   "cell_type": "code",
   "execution_count": null,
   "metadata": {},
   "outputs": [],
   "source": [
    "rename_ref = {\n",
    "    v: v.split(\"_reference\")[0] for v in seasonal_reference_state\n",
    "}\n",
    "seasonal_reference_state = seasonal_reference_state.rename(rename_ref)"
   ]
  },
  {
   "cell_type": "markdown",
   "metadata": {},
   "source": [
    "center and rotate D-grid to A-grid winds"
   ]
  },
  {
   "cell_type": "code",
   "execution_count": null,
   "metadata": {},
   "outputs": [],
   "source": [
    "prog_a_grid_winds = vcm.DerivedMapping(seasonal_prog_state.merge(grid).merge(wind_rotation)).dataset([\"northward_wind\", \"eastward_wind\"])\n",
    "ref_a_grid_winds = vcm.DerivedMapping(\n",
    "    seasonal_reference_state.merge(grid).merge(wind_rotation)).dataset([\"northward_wind\", \"eastward_wind\"])\n"
   ]
  },
  {
   "cell_type": "code",
   "execution_count": null,
   "metadata": {},
   "outputs": [],
   "source": [
    "seasonal_prog_state = seasonal_prog_state.merge(prog_a_grid_winds)\n",
    "seasonal_reference_state = seasonal_reference_state.merge(ref_a_grid_winds)"
   ]
  },
  {
   "cell_type": "code",
   "execution_count": null,
   "metadata": {},
   "outputs": [],
   "source": [
    "def plot_plev_bias(prog: xr.Dataset, ref: xr.Dataset, var: str, cbar_label: str=None, **kwargs):\n",
    "    prog_plev = vcm.interpolate_to_pressure_levels(prog[var], prog[\"pressure_thickness_of_atmospheric_layer\"], dim=\"z\")\n",
    "    ref_plev = vcm.interpolate_to_pressure_levels(ref[var], ref[\"pressure_thickness_of_atmospheric_layer\"], dim=\"z\")\n",
    "    bias_plev = (prog_plev - ref_plev) \\\n",
    "        .rename(cbar_label) \\\n",
    "        .assign_coords({\"pressure\": ref_plev.pressure.values/100.}) \\\n",
    "        .rename({\"pressure\": \"Pressure [hPa]\"})\n",
    "    \n",
    "    f = vcm.zonal_average_approximate(\n",
    "        grid.lat,\n",
    "        bias_plev,\n",
    "        lat_name=\"Latitude [deg]\"\n",
    "    ).plot(x=\"Latitude [deg]\", yincrease=False, **kwargs)\n",
    "    return f"
   ]
  },
  {
   "cell_type": "markdown",
   "metadata": {},
   "source": [
    "#### Air temperature"
   ]
  },
  {
   "cell_type": "code",
   "execution_count": null,
   "metadata": {},
   "outputs": [],
   "source": [
    "f = plot_plev_bias(seasonal_prog_state.mean(\"season\"), seasonal_reference_state.mean(\"season\"), \"air_temperature\", \"air temperature bias [K]\", col=\"run\")\n",
    "\n",
    "f.axes[0][0].set_title(\"Baseline\")\n",
    "f.axes[0][1].set_title(\"ML ensemble\")\n",
    "\n",
    "plt.savefig(\"figures/pdf/prognostic_zonal_pressure_bias_air_temperature.pdf\", dpi=200)"
   ]
  },
  {
   "cell_type": "code",
   "execution_count": null,
   "metadata": {},
   "outputs": [],
   "source": [
    "f = plot_plev_bias(seasonal_prog_state, seasonal_reference_state, \"air_temperature\", \"air temperature bias [K]\", col=\"season\", row=\"run\")\n"
   ]
  },
  {
   "cell_type": "markdown",
   "metadata": {},
   "source": [
    "#### Specific humidity"
   ]
  },
  {
   "cell_type": "code",
   "execution_count": null,
   "metadata": {},
   "outputs": [],
   "source": [
    "f = plot_plev_bias(seasonal_prog_state.mean(\"season\"), seasonal_reference_state.mean(\"season\"), \"specific_humidity\", \"specific humidity bias [kg/kg]\", col=\"run\")\n",
    "\n",
    "f.axes[0][0].set_title(\"Baseline\")\n",
    "f.axes[0][1].set_title(\"ML ensemble\")\n",
    "\n",
    "plt.savefig(\"figures/pdf/prognostic_zonal_pressure_bias_specific_humidity.pdf\", dpi=200)"
   ]
  },
  {
   "cell_type": "code",
   "execution_count": null,
   "metadata": {},
   "outputs": [],
   "source": [
    "f = plot_plev_bias(seasonal_prog_state, seasonal_reference_state, \"specific_humidity\", \"specific humidity bias [kg/kg]\", col=\"season\", row=\"run\")\n"
   ]
  },
  {
   "cell_type": "markdown",
   "metadata": {},
   "source": [
    "#### Zonal wind"
   ]
  },
  {
   "cell_type": "code",
   "execution_count": null,
   "metadata": {},
   "outputs": [],
   "source": [
    "f = plot_plev_bias(seasonal_prog_state.mean(\"season\"), seasonal_reference_state.mean(\"season\"), \"eastward_wind\", \"eastward wind bias [m/s]\", col=\"run\", vmax=8)\n",
    "\n",
    "f.axes[0][0].set_title(\"Baseline\")\n",
    "f.axes[0][1].set_title(\"ML ensemble\")\n",
    "\n",
    "plt.savefig(\"figures/pdf/prognostic_zonal_pressure_bias_eastward_wind.pdf\", dpi=200)"
   ]
  },
  {
   "cell_type": "code",
   "execution_count": null,
   "metadata": {},
   "outputs": [],
   "source": [
    "f = plot_plev_bias(seasonal_prog_state, seasonal_reference_state, \"eastward_wind\", \"eastward wind bias [m/s]\", col=\"season\", row=\"run\")\n"
   ]
  },
  {
   "cell_type": "code",
   "execution_count": null,
   "metadata": {},
   "outputs": [],
   "source": [
    "f = plot_plev_bias(seasonal_prog_state.mean(\"season\"), seasonal_reference_state.mean(\"season\"), \"northward_wind\", \"northward wind bias [m/s]\", col=\"run\", vmax=2)\n",
    "\n",
    "f.axes[0][0].set_title(\"Baseline\")\n",
    "f.axes[0][1].set_title(\"ML ensemble\")\n",
    "\n",
    "plt.savefig(\"figures/pdf/prognostic_zonal_pressure_bias_northward_wind.pdf\", dpi=200)"
   ]
  },
  {
   "cell_type": "code",
   "execution_count": null,
   "metadata": {},
   "outputs": [],
   "source": [
    "f = plot_plev_bias(seasonal_prog_state, seasonal_reference_state, \"northward_wind\", \"northward wind bias [m/s]\", col=\"season\", row=\"run\", vmax=2)\n",
    "\n"
   ]
  },
  {
   "cell_type": "code",
   "execution_count": null,
   "metadata": {},
   "outputs": [],
   "source": []
  }
 ],
 "metadata": {
  "kernelspec": {
   "display_name": "fv3net_kernel",
   "language": "python",
   "name": "fv3net"
  },
  "language_info": {
   "codemirror_mode": {
    "name": "ipython",
    "version": 3
   },
   "file_extension": ".py",
   "mimetype": "text/x-python",
   "name": "python",
   "nbconvert_exporter": "python",
   "pygments_lexer": "ipython3",
   "version": "3.8.12"
  }
 },
 "nbformat": 4,
 "nbformat_minor": 4
}
