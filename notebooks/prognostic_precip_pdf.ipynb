{
 "cells": [
  {
   "cell_type": "code",
   "execution_count": 6,
   "metadata": {},
   "outputs": [],
   "source": [
    "import warnings\n",
    "import fsspec\n",
    "import os\n",
    "import xarray as xr\n",
    "warnings.filterwarnings('ignore')"
   ]
  },
  {
   "cell_type": "code",
   "execution_count": 7,
   "metadata": {},
   "outputs": [],
   "source": [
    "rundirs = [\n",
    "\n",
    "  {\n",
    "    \"url\": \"gs://vcm-ml-experiments/n2f-pire-sfc-updates/2022-01-10/baseline-seaice-prescribed/fv3gfs_run_diagnostics\",\n",
    "    \"name\": \"Baseline\"\n",
    "  },\n",
    "    {\n",
    "        \"url\": \"gs://vcm-ml-experiments/n2f-pire-stable-ml/2022-07-09/decrease-rad-lr-updated-rad-flux-ensemble/fv3gfs_run_diagnostics\",\n",
    "        \"name\": \"NN ensemble\"\n",
    "    },\n",
    "  \n",
    "]"
   ]
  },
  {
   "cell_type": "code",
   "execution_count": 8,
   "metadata": {},
   "outputs": [],
   "source": [
    "runs={}\n",
    "for run in rundirs:\n",
    "    with fsspec.open(os.path.join(run[\"url\"], \"diags.nc\"), \"rb\") as f:\n",
    "        runs[run[\"name\"]] = xr.open_dataset(f).load()\n",
    "        \n"
   ]
  },
  {
   "cell_type": "code",
   "execution_count": null,
   "metadata": {},
   "outputs": [],
   "source": []
  }
 ],
 "metadata": {
  "kernelspec": {
   "display_name": "fv3net_kernel",
   "language": "python",
   "name": "fv3net"
  },
  "language_info": {
   "codemirror_mode": {
    "name": "ipython",
    "version": 3
   },
   "file_extension": ".py",
   "mimetype": "text/x-python",
   "name": "python",
   "nbconvert_exporter": "python",
   "pygments_lexer": "ipython3",
   "version": "3.8.12"
  }
 },
 "nbformat": 4,
 "nbformat_minor": 4
}
